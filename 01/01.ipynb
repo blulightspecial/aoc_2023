{
 "cells": [
  {
   "cell_type": "markdown",
   "id": "e4b46bfb-932a-4e25-989f-2ac30ffebb5a",
   "metadata": {},
   "source": [
    "# Part 1"
   ]
  },
  {
   "cell_type": "raw",
   "id": "2b89e373-220a-4a9a-8604-ca65121171b1",
   "metadata": {},
   "source": [
    "--- Day 1: Trebuchet?! ---\n",
    "\n",
    "Something is wrong with global snow production, and you've been selected to take a look. The Elves have even given you a map; on it, they've used stars to mark the top fifty locations that are likely to be having problems.\n",
    "\n",
    "You've been doing this long enough to know that to restore snow operations, you need to check all fifty stars by December 25th.\n",
    "\n",
    "Collect stars by solving puzzles. Two puzzles will be made available on each day in the Advent calendar; the second puzzle is unlocked when you complete the first. Each puzzle grants one star. Good luck!\n",
    "\n",
    "You try to ask why they can't just use a weather machine (\"not powerful enough\") and where they're even sending you (\"the sky\") and why your map looks mostly blank (\"you sure ask a lot of questions\") and hang on did you just say the sky (\"of course, where do you think snow comes from\") when you realize that the Elves are already loading you into a trebuchet (\"please hold still, we need to strap you in\").\n",
    "\n",
    "As they're making the final adjustments, they discover that their calibration document (your puzzle input) has been amended by a very young Elf who was apparently just excited to show off her art skills. Consequently, the Elves are having trouble reading the values on the document.\n",
    "\n",
    "The newly-improved calibration document consists of lines of text; each line originally contained a specific calibration value that the Elves now need to recover. On each line, the calibration value can be found by combining the first digit and the last digit (in that order) to form a single two-digit number.\n",
    "\n",
    "For example:\n",
    "\n",
    "1abc2\n",
    "pqr3stu8vwx\n",
    "a1b2c3d4e5f\n",
    "treb7uchet\n",
    "\n",
    "In this example, the calibration values of these four lines are 12, 38, 15, and 77. Adding these together produces 142."
   ]
  },
  {
   "cell_type": "code",
   "execution_count": 4,
   "id": "259939a5-4c75-4758-adad-eae51f082c79",
   "metadata": {},
   "outputs": [],
   "source": [
    "import pandas as pd\n",
    "import re\n",
    "import io"
   ]
  },
  {
   "cell_type": "markdown",
   "id": "8152eead-9b44-4c27-95ef-9ec14471db51",
   "metadata": {},
   "source": [
    "## Example"
   ]
  },
  {
   "cell_type": "code",
   "execution_count": 15,
   "id": "ee202e88-3f71-453d-a1b0-45d84299e8dc",
   "metadata": {},
   "outputs": [
    {
     "data": {
      "text/html": [
       "<div>\n",
       "<style scoped>\n",
       "    .dataframe tbody tr th:only-of-type {\n",
       "        vertical-align: middle;\n",
       "    }\n",
       "\n",
       "    .dataframe tbody tr th {\n",
       "        vertical-align: top;\n",
       "    }\n",
       "\n",
       "    .dataframe thead th {\n",
       "        text-align: right;\n",
       "    }\n",
       "</style>\n",
       "<table border=\"1\" class=\"dataframe\">\n",
       "  <thead>\n",
       "    <tr style=\"text-align: right;\">\n",
       "      <th></th>\n",
       "      <th>0</th>\n",
       "      <th>nums</th>\n",
       "      <th>to_sum</th>\n",
       "    </tr>\n",
       "  </thead>\n",
       "  <tbody>\n",
       "    <tr>\n",
       "      <th>0</th>\n",
       "      <td>1abc2</td>\n",
       "      <td>[1, 2]</td>\n",
       "      <td>12</td>\n",
       "    </tr>\n",
       "    <tr>\n",
       "      <th>1</th>\n",
       "      <td>pqr3stu8vwx</td>\n",
       "      <td>[3, 8]</td>\n",
       "      <td>38</td>\n",
       "    </tr>\n",
       "    <tr>\n",
       "      <th>2</th>\n",
       "      <td>a1b2c3d4e5f</td>\n",
       "      <td>[1, 2, 3, 4, 5]</td>\n",
       "      <td>15</td>\n",
       "    </tr>\n",
       "    <tr>\n",
       "      <th>3</th>\n",
       "      <td>treb7uchet</td>\n",
       "      <td>[7]</td>\n",
       "      <td>77</td>\n",
       "    </tr>\n",
       "  </tbody>\n",
       "</table>\n",
       "</div>"
      ],
      "text/plain": [
       "             0             nums  to_sum\n",
       "0        1abc2           [1, 2]      12\n",
       "1  pqr3stu8vwx           [3, 8]      38\n",
       "2  a1b2c3d4e5f  [1, 2, 3, 4, 5]      15\n",
       "3   treb7uchet              [7]      77"
      ]
     },
     "metadata": {},
     "output_type": "display_data"
    },
    {
     "data": {
      "text/plain": [
       "142"
      ]
     },
     "execution_count": 15,
     "metadata": {},
     "output_type": "execute_result"
    }
   ],
   "source": [
    "ex_string = '''\n",
    "1abc2\n",
    "pqr3stu8vwx\n",
    "a1b2c3d4e5f\n",
    "treb7uchet'''\n",
    "\n",
    "df = pd.read_csv(io.StringIO(ex_string),header=None)\n",
    "\n",
    "df['nums'] = df[0].str.findall(r'\\d')\n",
    "\n",
    "df['to_sum'] = df['nums'].apply(lambda x: int(x[0])*10 + int(x[-1]))\n",
    "\n",
    "display(df)\n",
    "\n",
    "df['to_sum'].sum()"
   ]
  },
  {
   "cell_type": "markdown",
   "id": "81155b18-bb55-434a-ba7e-2d6cdeeebe53",
   "metadata": {},
   "source": [
    "## Full input"
   ]
  },
  {
   "cell_type": "code",
   "execution_count": 17,
   "id": "f215929a-0e38-4e7d-92d1-71ca689e28be",
   "metadata": {},
   "outputs": [
    {
     "data": {
      "text/html": [
       "<div>\n",
       "<style scoped>\n",
       "    .dataframe tbody tr th:only-of-type {\n",
       "        vertical-align: middle;\n",
       "    }\n",
       "\n",
       "    .dataframe tbody tr th {\n",
       "        vertical-align: top;\n",
       "    }\n",
       "\n",
       "    .dataframe thead th {\n",
       "        text-align: right;\n",
       "    }\n",
       "</style>\n",
       "<table border=\"1\" class=\"dataframe\">\n",
       "  <thead>\n",
       "    <tr style=\"text-align: right;\">\n",
       "      <th></th>\n",
       "      <th>0</th>\n",
       "      <th>nums</th>\n",
       "      <th>to_sum</th>\n",
       "    </tr>\n",
       "  </thead>\n",
       "  <tbody>\n",
       "    <tr>\n",
       "      <th>0</th>\n",
       "      <td>2qlljdqcbeight</td>\n",
       "      <td>[2]</td>\n",
       "      <td>22</td>\n",
       "    </tr>\n",
       "    <tr>\n",
       "      <th>1</th>\n",
       "      <td>eight47srvbfive</td>\n",
       "      <td>[4, 7]</td>\n",
       "      <td>47</td>\n",
       "    </tr>\n",
       "    <tr>\n",
       "      <th>2</th>\n",
       "      <td>slconeightfoureight557m38</td>\n",
       "      <td>[5, 5, 7, 3, 8]</td>\n",
       "      <td>58</td>\n",
       "    </tr>\n",
       "    <tr>\n",
       "      <th>3</th>\n",
       "      <td>xvqeightwosixnine61eightsn2tdczfhx</td>\n",
       "      <td>[6, 1, 2]</td>\n",
       "      <td>62</td>\n",
       "    </tr>\n",
       "    <tr>\n",
       "      <th>4</th>\n",
       "      <td>msixonexch1twokjbdlhchqk1</td>\n",
       "      <td>[1, 1]</td>\n",
       "      <td>11</td>\n",
       "    </tr>\n",
       "    <tr>\n",
       "      <th>...</th>\n",
       "      <td>...</td>\n",
       "      <td>...</td>\n",
       "      <td>...</td>\n",
       "    </tr>\n",
       "    <tr>\n",
       "      <th>995</th>\n",
       "      <td>qqqnnkq7five</td>\n",
       "      <td>[7]</td>\n",
       "      <td>77</td>\n",
       "    </tr>\n",
       "    <tr>\n",
       "      <th>996</th>\n",
       "      <td>foureight6</td>\n",
       "      <td>[6]</td>\n",
       "      <td>66</td>\n",
       "    </tr>\n",
       "    <tr>\n",
       "      <th>997</th>\n",
       "      <td>crjgvsjxcpgtx8one</td>\n",
       "      <td>[8]</td>\n",
       "      <td>88</td>\n",
       "    </tr>\n",
       "    <tr>\n",
       "      <th>998</th>\n",
       "      <td>nvfive8hvdth6fgnfgh</td>\n",
       "      <td>[8, 6]</td>\n",
       "      <td>86</td>\n",
       "    </tr>\n",
       "    <tr>\n",
       "      <th>999</th>\n",
       "      <td>8hl5eight</td>\n",
       "      <td>[8, 5]</td>\n",
       "      <td>85</td>\n",
       "    </tr>\n",
       "  </tbody>\n",
       "</table>\n",
       "<p>1000 rows × 3 columns</p>\n",
       "</div>"
      ],
      "text/plain": [
       "                                      0             nums  to_sum\n",
       "0                        2qlljdqcbeight              [2]      22\n",
       "1                       eight47srvbfive           [4, 7]      47\n",
       "2             slconeightfoureight557m38  [5, 5, 7, 3, 8]      58\n",
       "3    xvqeightwosixnine61eightsn2tdczfhx        [6, 1, 2]      62\n",
       "4             msixonexch1twokjbdlhchqk1           [1, 1]      11\n",
       "..                                  ...              ...     ...\n",
       "995                        qqqnnkq7five              [7]      77\n",
       "996                          foureight6              [6]      66\n",
       "997                   crjgvsjxcpgtx8one              [8]      88\n",
       "998                 nvfive8hvdth6fgnfgh           [8, 6]      86\n",
       "999                           8hl5eight           [8, 5]      85\n",
       "\n",
       "[1000 rows x 3 columns]"
      ]
     },
     "metadata": {},
     "output_type": "display_data"
    },
    {
     "data": {
      "text/plain": [
       "54990"
      ]
     },
     "execution_count": 17,
     "metadata": {},
     "output_type": "execute_result"
    }
   ],
   "source": [
    "df = pd.read_csv('input.txt',header=None)\n",
    "\n",
    "df['nums'] = df[0].str.findall(r'\\d')\n",
    "\n",
    "df['to_sum'] = df['nums'].apply(lambda x: int(x[0])*10 + int(x[-1]))\n",
    "\n",
    "display(df)\n",
    "\n",
    "df['to_sum'].sum()"
   ]
  },
  {
   "cell_type": "markdown",
   "id": "6c37dd97-db39-4053-8f11-af22b46185d2",
   "metadata": {},
   "source": [
    "# Part 2"
   ]
  },
  {
   "cell_type": "raw",
   "id": "2283c14d-dd81-42b1-8b70-824c7c50ccac",
   "metadata": {},
   "source": [
    "--- Part Two ---\n",
    "\n",
    "Your calculation isn't quite right. It looks like some of the digits are actually spelled out with letters: one, two, three, four, five, six, seven, eight, and nine also count as valid \"digits\".\n",
    "\n",
    "Equipped with this new information, you now need to find the real first and last digit on each line. For example:\n",
    "\n",
    "two1nine\n",
    "eightwothree\n",
    "abcone2threexyz\n",
    "xtwone3four\n",
    "4nineeightseven2\n",
    "zoneight234\n",
    "7pqrstsixteen\n",
    "In this example, the calibration values are 29, 83, 13, 24, 42, 14, and 76. Adding these together produces 281.\n",
    "\n",
    "What is the sum of all of the calibration values?\n",
    "\n",
    "Answer:  \n",
    "\n",
    "Although it hasn't changed, you can still get your puzzle input.\n",
    "\n",
    "You can also [Share] this puzzle."
   ]
  },
  {
   "cell_type": "markdown",
   "id": "4e48bc00-3886-4d8f-83e1-37bc0c60187b",
   "metadata": {},
   "source": [
    "## Attempt 1\n",
    "\n",
    "This one lacks the ability to double dip\n",
    "\n",
    "So, for example, `oneight` shows up just as 1. Probably it needs to show up as `one` and `eight`"
   ]
  },
  {
   "cell_type": "markdown",
   "id": "e577cacb-32fd-4afd-8c47-22a89bac916c",
   "metadata": {},
   "source": [
    "### Example"
   ]
  },
  {
   "cell_type": "code",
   "execution_count": 41,
   "id": "3aba7139-1723-491f-b8a4-de4d0ae91759",
   "metadata": {},
   "outputs": [
    {
     "data": {
      "text/plain": [
       "'3.10.14 (main, May  6 2024, 19:42:50) [GCC 11.2.0]'"
      ]
     },
     "execution_count": 41,
     "metadata": {},
     "output_type": "execute_result"
    }
   ],
   "source": [
    "import sys\n",
    "sys.version"
   ]
  },
  {
   "cell_type": "code",
   "execution_count": 42,
   "id": "967cf76f-7cce-4d58-be3f-010a66b49e63",
   "metadata": {},
   "outputs": [
    {
     "data": {
      "text/plain": [
       "'l'"
      ]
     },
     "execution_count": 42,
     "metadata": {},
     "output_type": "execute_result"
    }
   ],
   "source": [
    "x = 'l'\n",
    "conversion_dict.get(x, x)"
   ]
  },
  {
   "cell_type": "code",
   "execution_count": 43,
   "id": "ef672b14-6a90-4717-9677-3d02113b0758",
   "metadata": {},
   "outputs": [
    {
     "name": "stdout",
     "output_type": "stream",
     "text": [
      "\\d|one|two|three|four|five|six|seven|eight|nine\n"
     ]
    },
    {
     "data": {
      "text/html": [
       "<div>\n",
       "<style scoped>\n",
       "    .dataframe tbody tr th:only-of-type {\n",
       "        vertical-align: middle;\n",
       "    }\n",
       "\n",
       "    .dataframe tbody tr th {\n",
       "        vertical-align: top;\n",
       "    }\n",
       "\n",
       "    .dataframe thead th {\n",
       "        text-align: right;\n",
       "    }\n",
       "</style>\n",
       "<table border=\"1\" class=\"dataframe\">\n",
       "  <thead>\n",
       "    <tr style=\"text-align: right;\">\n",
       "      <th></th>\n",
       "      <th>0</th>\n",
       "      <th>nums</th>\n",
       "      <th>to_sum</th>\n",
       "    </tr>\n",
       "  </thead>\n",
       "  <tbody>\n",
       "    <tr>\n",
       "      <th>0</th>\n",
       "      <td>two1nine</td>\n",
       "      <td>[two, 1, nine]</td>\n",
       "      <td>29</td>\n",
       "    </tr>\n",
       "    <tr>\n",
       "      <th>1</th>\n",
       "      <td>eightwothree</td>\n",
       "      <td>[eight, three]</td>\n",
       "      <td>83</td>\n",
       "    </tr>\n",
       "    <tr>\n",
       "      <th>2</th>\n",
       "      <td>abcone2threexyz</td>\n",
       "      <td>[one, 2, three]</td>\n",
       "      <td>13</td>\n",
       "    </tr>\n",
       "    <tr>\n",
       "      <th>3</th>\n",
       "      <td>xtwone3four</td>\n",
       "      <td>[two, 3, four]</td>\n",
       "      <td>24</td>\n",
       "    </tr>\n",
       "    <tr>\n",
       "      <th>4</th>\n",
       "      <td>4nineeightseven2</td>\n",
       "      <td>[4, nine, eight, seven, 2]</td>\n",
       "      <td>42</td>\n",
       "    </tr>\n",
       "    <tr>\n",
       "      <th>5</th>\n",
       "      <td>zoneight234</td>\n",
       "      <td>[one, 2, 3, 4]</td>\n",
       "      <td>14</td>\n",
       "    </tr>\n",
       "    <tr>\n",
       "      <th>6</th>\n",
       "      <td>7pqrstsixteen</td>\n",
       "      <td>[7, six]</td>\n",
       "      <td>76</td>\n",
       "    </tr>\n",
       "  </tbody>\n",
       "</table>\n",
       "</div>"
      ],
      "text/plain": [
       "                  0                        nums  to_sum\n",
       "0          two1nine              [two, 1, nine]      29\n",
       "1      eightwothree              [eight, three]      83\n",
       "2   abcone2threexyz             [one, 2, three]      13\n",
       "3       xtwone3four              [two, 3, four]      24\n",
       "4  4nineeightseven2  [4, nine, eight, seven, 2]      42\n",
       "5       zoneight234              [one, 2, 3, 4]      14\n",
       "6     7pqrstsixteen                    [7, six]      76"
      ]
     },
     "metadata": {},
     "output_type": "display_data"
    },
    {
     "data": {
      "text/plain": [
       "281"
      ]
     },
     "execution_count": 43,
     "metadata": {},
     "output_type": "execute_result"
    }
   ],
   "source": [
    "ex_string = '''\n",
    "two1nine\n",
    "eightwothree\n",
    "abcone2threexyz\n",
    "xtwone3four\n",
    "4nineeightseven2\n",
    "zoneight234\n",
    "7pqrstsixteen'''\n",
    "\n",
    "conversion_dict = {\n",
    "    'one': 1,\n",
    "    'two': 2,\n",
    "    'three': 3, \n",
    "    'four': 4,\n",
    "    'five': 5,\n",
    "    'six': 6,\n",
    "    'seven': 7,\n",
    "    'eight': 8,\n",
    "    'nine': 9,\n",
    "    # 'zero': 0\n",
    "}\n",
    "\n",
    "df = pd.read_csv(io.StringIO(ex_string),header=None)\n",
    "\n",
    "pat_string = '|'.join([r'\\d'] + [k for k in conversion_dict.keys()])\n",
    "print(pat_string)\n",
    "\n",
    "df['nums'] = df[0].str.findall(pat_string)\n",
    "\n",
    "def extract_num(s_list):\n",
    "    s1 = s_list[0]\n",
    "    s2 = s_list[-1]\n",
    "    s1 = conversion_dict.get(s1,s1)\n",
    "    s2 = conversion_dict.get(s2,s2)\n",
    "    return int(s1)*10 + int(s2)\n",
    "\n",
    "df['to_sum'] = df['nums'].apply(extract_num)\n",
    "\n",
    "display(df)\n",
    "\n",
    "df['to_sum'].sum()"
   ]
  },
  {
   "cell_type": "markdown",
   "id": "c3891965-035d-47a1-8ee4-9ca4d7a2b3b9",
   "metadata": {},
   "source": [
    "### Full input"
   ]
  },
  {
   "cell_type": "code",
   "execution_count": 44,
   "id": "7d62cf24-64e1-4f51-91f5-6283be75b019",
   "metadata": {},
   "outputs": [
    {
     "data": {
      "text/html": [
       "<div>\n",
       "<style scoped>\n",
       "    .dataframe tbody tr th:only-of-type {\n",
       "        vertical-align: middle;\n",
       "    }\n",
       "\n",
       "    .dataframe tbody tr th {\n",
       "        vertical-align: top;\n",
       "    }\n",
       "\n",
       "    .dataframe thead th {\n",
       "        text-align: right;\n",
       "    }\n",
       "</style>\n",
       "<table border=\"1\" class=\"dataframe\">\n",
       "  <thead>\n",
       "    <tr style=\"text-align: right;\">\n",
       "      <th></th>\n",
       "      <th>0</th>\n",
       "      <th>nums</th>\n",
       "      <th>to_sum</th>\n",
       "    </tr>\n",
       "  </thead>\n",
       "  <tbody>\n",
       "    <tr>\n",
       "      <th>0</th>\n",
       "      <td>2qlljdqcbeight</td>\n",
       "      <td>[2, eight]</td>\n",
       "      <td>28</td>\n",
       "    </tr>\n",
       "    <tr>\n",
       "      <th>1</th>\n",
       "      <td>eight47srvbfive</td>\n",
       "      <td>[eight, 4, 7, five]</td>\n",
       "      <td>85</td>\n",
       "    </tr>\n",
       "    <tr>\n",
       "      <th>2</th>\n",
       "      <td>slconeightfoureight557m38</td>\n",
       "      <td>[one, four, eight, 5, 5, 7, 3, 8]</td>\n",
       "      <td>18</td>\n",
       "    </tr>\n",
       "    <tr>\n",
       "      <th>3</th>\n",
       "      <td>xvqeightwosixnine61eightsn2tdczfhx</td>\n",
       "      <td>[eight, six, nine, 6, 1, eight, 2]</td>\n",
       "      <td>82</td>\n",
       "    </tr>\n",
       "    <tr>\n",
       "      <th>4</th>\n",
       "      <td>msixonexch1twokjbdlhchqk1</td>\n",
       "      <td>[six, one, 1, two, 1]</td>\n",
       "      <td>61</td>\n",
       "    </tr>\n",
       "    <tr>\n",
       "      <th>...</th>\n",
       "      <td>...</td>\n",
       "      <td>...</td>\n",
       "      <td>...</td>\n",
       "    </tr>\n",
       "    <tr>\n",
       "      <th>995</th>\n",
       "      <td>qqqnnkq7five</td>\n",
       "      <td>[7, five]</td>\n",
       "      <td>75</td>\n",
       "    </tr>\n",
       "    <tr>\n",
       "      <th>996</th>\n",
       "      <td>foureight6</td>\n",
       "      <td>[four, eight, 6]</td>\n",
       "      <td>46</td>\n",
       "    </tr>\n",
       "    <tr>\n",
       "      <th>997</th>\n",
       "      <td>crjgvsjxcpgtx8one</td>\n",
       "      <td>[8, one]</td>\n",
       "      <td>81</td>\n",
       "    </tr>\n",
       "    <tr>\n",
       "      <th>998</th>\n",
       "      <td>nvfive8hvdth6fgnfgh</td>\n",
       "      <td>[five, 8, 6]</td>\n",
       "      <td>56</td>\n",
       "    </tr>\n",
       "    <tr>\n",
       "      <th>999</th>\n",
       "      <td>8hl5eight</td>\n",
       "      <td>[8, 5, eight]</td>\n",
       "      <td>88</td>\n",
       "    </tr>\n",
       "  </tbody>\n",
       "</table>\n",
       "<p>1000 rows × 3 columns</p>\n",
       "</div>"
      ],
      "text/plain": [
       "                                      0                                nums  \\\n",
       "0                        2qlljdqcbeight                          [2, eight]   \n",
       "1                       eight47srvbfive                 [eight, 4, 7, five]   \n",
       "2             slconeightfoureight557m38   [one, four, eight, 5, 5, 7, 3, 8]   \n",
       "3    xvqeightwosixnine61eightsn2tdczfhx  [eight, six, nine, 6, 1, eight, 2]   \n",
       "4             msixonexch1twokjbdlhchqk1               [six, one, 1, two, 1]   \n",
       "..                                  ...                                 ...   \n",
       "995                        qqqnnkq7five                           [7, five]   \n",
       "996                          foureight6                    [four, eight, 6]   \n",
       "997                   crjgvsjxcpgtx8one                            [8, one]   \n",
       "998                 nvfive8hvdth6fgnfgh                        [five, 8, 6]   \n",
       "999                           8hl5eight                       [8, 5, eight]   \n",
       "\n",
       "     to_sum  \n",
       "0        28  \n",
       "1        85  \n",
       "2        18  \n",
       "3        82  \n",
       "4        61  \n",
       "..      ...  \n",
       "995      75  \n",
       "996      46  \n",
       "997      81  \n",
       "998      56  \n",
       "999      88  \n",
       "\n",
       "[1000 rows x 3 columns]"
      ]
     },
     "metadata": {},
     "output_type": "display_data"
    },
    {
     "data": {
      "text/plain": [
       "54489"
      ]
     },
     "execution_count": 44,
     "metadata": {},
     "output_type": "execute_result"
    }
   ],
   "source": [
    "df = pd.read_csv('input.txt',header=None)\n",
    "df['nums'] = df[0].str.findall(pat_string)\n",
    "df['to_sum'] = df['nums'].apply(extract_num)\n",
    "display(df)\n",
    "df['to_sum'].sum()"
   ]
  },
  {
   "cell_type": "code",
   "execution_count": 45,
   "id": "4d4bd16b-6ea8-4db7-afe0-7f747de00011",
   "metadata": {},
   "outputs": [
    {
     "data": {
      "text/plain": [
       "54489"
      ]
     },
     "execution_count": 45,
     "metadata": {},
     "output_type": "execute_result"
    }
   ],
   "source": [
    "# This was too high\n",
    "54489"
   ]
  },
  {
   "cell_type": "markdown",
   "id": "fc5e802c-852c-47f3-9ef7-a5c7678d871f",
   "metadata": {},
   "source": [
    "## Attempt 2\n",
    "\n",
    "Fix so that we can \"double dip\" on numbers see line 2 on output. I want that to show as one then eight.\n"
   ]
  },
  {
   "cell_type": "code",
   "execution_count": 69,
   "id": "0efc63a1-3503-4f0b-bc34-74cd2a39c903",
   "metadata": {},
   "outputs": [
    {
     "data": {
      "text/plain": [
       "'kyle'"
      ]
     },
     "execution_count": 69,
     "metadata": {},
     "output_type": "execute_result"
    }
   ],
   "source": [
    "import re\n",
    "re.search(r\"kev|kyle\", 'kkyleevinkev')[0]"
   ]
  },
  {
   "cell_type": "code",
   "execution_count": null,
   "id": "7d342968-4f28-41f5-8423-eb72ebe0e634",
   "metadata": {},
   "outputs": [],
   "source": []
  },
  {
   "cell_type": "code",
   "execution_count": 77,
   "id": "c9a43ad4-f7bf-4556-870c-0df907adb47d",
   "metadata": {},
   "outputs": [
    {
     "name": "stdout",
     "output_type": "stream",
     "text": [
      "\\d|one|two|three|four|five|six|seven|eight|nine\n",
      "===== Test ====================\n"
     ]
    },
    {
     "data": {
      "text/html": [
       "<div>\n",
       "<style scoped>\n",
       "    .dataframe tbody tr th:only-of-type {\n",
       "        vertical-align: middle;\n",
       "    }\n",
       "\n",
       "    .dataframe tbody tr th {\n",
       "        vertical-align: top;\n",
       "    }\n",
       "\n",
       "    .dataframe thead th {\n",
       "        text-align: right;\n",
       "    }\n",
       "</style>\n",
       "<table border=\"1\" class=\"dataframe\">\n",
       "  <thead>\n",
       "    <tr style=\"text-align: right;\">\n",
       "      <th></th>\n",
       "      <th>0</th>\n",
       "      <th>nums</th>\n",
       "      <th>to_sum</th>\n",
       "    </tr>\n",
       "  </thead>\n",
       "  <tbody>\n",
       "    <tr>\n",
       "      <th>0</th>\n",
       "      <td>two1nine</td>\n",
       "      <td>[two, 1, nine]</td>\n",
       "      <td>29</td>\n",
       "    </tr>\n",
       "    <tr>\n",
       "      <th>1</th>\n",
       "      <td>eightwothree</td>\n",
       "      <td>[eight, two, three]</td>\n",
       "      <td>83</td>\n",
       "    </tr>\n",
       "    <tr>\n",
       "      <th>2</th>\n",
       "      <td>abcone2threexyz</td>\n",
       "      <td>[one, 2, three]</td>\n",
       "      <td>13</td>\n",
       "    </tr>\n",
       "    <tr>\n",
       "      <th>3</th>\n",
       "      <td>xtwone3four</td>\n",
       "      <td>[two, one, 3, four]</td>\n",
       "      <td>24</td>\n",
       "    </tr>\n",
       "    <tr>\n",
       "      <th>4</th>\n",
       "      <td>4nineeightseven2</td>\n",
       "      <td>[4, nine, eight, seven, 2]</td>\n",
       "      <td>42</td>\n",
       "    </tr>\n",
       "    <tr>\n",
       "      <th>5</th>\n",
       "      <td>zoneight234</td>\n",
       "      <td>[one, eight, 2, 3, 4]</td>\n",
       "      <td>14</td>\n",
       "    </tr>\n",
       "    <tr>\n",
       "      <th>6</th>\n",
       "      <td>7pqrstsixteen</td>\n",
       "      <td>[7, six]</td>\n",
       "      <td>76</td>\n",
       "    </tr>\n",
       "  </tbody>\n",
       "</table>\n",
       "</div>"
      ],
      "text/plain": [
       "                  0                        nums  to_sum\n",
       "0          two1nine              [two, 1, nine]      29\n",
       "1      eightwothree         [eight, two, three]      83\n",
       "2   abcone2threexyz             [one, 2, three]      13\n",
       "3       xtwone3four         [two, one, 3, four]      24\n",
       "4  4nineeightseven2  [4, nine, eight, seven, 2]      42\n",
       "5       zoneight234       [one, eight, 2, 3, 4]      14\n",
       "6     7pqrstsixteen                    [7, six]      76"
      ]
     },
     "metadata": {},
     "output_type": "display_data"
    },
    {
     "name": "stdout",
     "output_type": "stream",
     "text": [
      "281\n",
      "\n",
      "\n",
      "\n",
      "===== Full ====================\n"
     ]
    },
    {
     "data": {
      "text/html": [
       "<div>\n",
       "<style scoped>\n",
       "    .dataframe tbody tr th:only-of-type {\n",
       "        vertical-align: middle;\n",
       "    }\n",
       "\n",
       "    .dataframe tbody tr th {\n",
       "        vertical-align: top;\n",
       "    }\n",
       "\n",
       "    .dataframe thead th {\n",
       "        text-align: right;\n",
       "    }\n",
       "</style>\n",
       "<table border=\"1\" class=\"dataframe\">\n",
       "  <thead>\n",
       "    <tr style=\"text-align: right;\">\n",
       "      <th></th>\n",
       "      <th>0</th>\n",
       "      <th>nums</th>\n",
       "      <th>to_sum</th>\n",
       "    </tr>\n",
       "  </thead>\n",
       "  <tbody>\n",
       "    <tr>\n",
       "      <th>0</th>\n",
       "      <td>2qlljdqcbeight</td>\n",
       "      <td>[2, eight]</td>\n",
       "      <td>28</td>\n",
       "    </tr>\n",
       "    <tr>\n",
       "      <th>1</th>\n",
       "      <td>eight47srvbfive</td>\n",
       "      <td>[eight, 4, 7, five]</td>\n",
       "      <td>85</td>\n",
       "    </tr>\n",
       "    <tr>\n",
       "      <th>2</th>\n",
       "      <td>slconeightfoureight557m38</td>\n",
       "      <td>[one, eight, four, eight, 5, 5, 7, 3, 8]</td>\n",
       "      <td>18</td>\n",
       "    </tr>\n",
       "    <tr>\n",
       "      <th>3</th>\n",
       "      <td>xvqeightwosixnine61eightsn2tdczfhx</td>\n",
       "      <td>[eight, two, six, nine, 6, 1, eight, 2]</td>\n",
       "      <td>82</td>\n",
       "    </tr>\n",
       "    <tr>\n",
       "      <th>4</th>\n",
       "      <td>msixonexch1twokjbdlhchqk1</td>\n",
       "      <td>[six, one, 1, two, 1]</td>\n",
       "      <td>61</td>\n",
       "    </tr>\n",
       "    <tr>\n",
       "      <th>...</th>\n",
       "      <td>...</td>\n",
       "      <td>...</td>\n",
       "      <td>...</td>\n",
       "    </tr>\n",
       "    <tr>\n",
       "      <th>995</th>\n",
       "      <td>qqqnnkq7five</td>\n",
       "      <td>[7, five]</td>\n",
       "      <td>75</td>\n",
       "    </tr>\n",
       "    <tr>\n",
       "      <th>996</th>\n",
       "      <td>foureight6</td>\n",
       "      <td>[four, eight, 6]</td>\n",
       "      <td>46</td>\n",
       "    </tr>\n",
       "    <tr>\n",
       "      <th>997</th>\n",
       "      <td>crjgvsjxcpgtx8one</td>\n",
       "      <td>[8, one]</td>\n",
       "      <td>81</td>\n",
       "    </tr>\n",
       "    <tr>\n",
       "      <th>998</th>\n",
       "      <td>nvfive8hvdth6fgnfgh</td>\n",
       "      <td>[five, 8, 6]</td>\n",
       "      <td>56</td>\n",
       "    </tr>\n",
       "    <tr>\n",
       "      <th>999</th>\n",
       "      <td>8hl5eight</td>\n",
       "      <td>[8, 5, eight]</td>\n",
       "      <td>88</td>\n",
       "    </tr>\n",
       "  </tbody>\n",
       "</table>\n",
       "<p>1000 rows × 3 columns</p>\n",
       "</div>"
      ],
      "text/plain": [
       "                                      0  \\\n",
       "0                        2qlljdqcbeight   \n",
       "1                       eight47srvbfive   \n",
       "2             slconeightfoureight557m38   \n",
       "3    xvqeightwosixnine61eightsn2tdczfhx   \n",
       "4             msixonexch1twokjbdlhchqk1   \n",
       "..                                  ...   \n",
       "995                        qqqnnkq7five   \n",
       "996                          foureight6   \n",
       "997                   crjgvsjxcpgtx8one   \n",
       "998                 nvfive8hvdth6fgnfgh   \n",
       "999                           8hl5eight   \n",
       "\n",
       "                                         nums  to_sum  \n",
       "0                                  [2, eight]      28  \n",
       "1                         [eight, 4, 7, five]      85  \n",
       "2    [one, eight, four, eight, 5, 5, 7, 3, 8]      18  \n",
       "3     [eight, two, six, nine, 6, 1, eight, 2]      82  \n",
       "4                       [six, one, 1, two, 1]      61  \n",
       "..                                        ...     ...  \n",
       "995                                 [7, five]      75  \n",
       "996                          [four, eight, 6]      46  \n",
       "997                                  [8, one]      81  \n",
       "998                              [five, 8, 6]      56  \n",
       "999                             [8, 5, eight]      88  \n",
       "\n",
       "[1000 rows x 3 columns]"
      ]
     },
     "metadata": {},
     "output_type": "display_data"
    },
    {
     "name": "stdout",
     "output_type": "stream",
     "text": [
      "54473\n"
     ]
    }
   ],
   "source": [
    "ex_string = '''\n",
    "two1nine\n",
    "eightwothree\n",
    "abcone2threexyz\n",
    "xtwone3four\n",
    "4nineeightseven2\n",
    "zoneight234\n",
    "7pqrstsixteen'''\n",
    "\n",
    "conversion_dict = {\n",
    "    'one': 1,\n",
    "    'two': 2,\n",
    "    'three': 3, \n",
    "    'four': 4,\n",
    "    'five': 5,\n",
    "    'six': 6,\n",
    "    'seven': 7,\n",
    "    'eight': 8,\n",
    "    'nine': 9,\n",
    "    # 'zero': 0\n",
    "}\n",
    "\n",
    "pat_string = '|'.join([r'\\d'] + [k for k in conversion_dict.keys()])\n",
    "print(pat_string)\n",
    "\n",
    "def list_nums_in_string(s):\n",
    "    res = []\n",
    "    while my_match := re.search(pat_string, s):\n",
    "        res.append(my_match[0])\n",
    "        s = s[my_match.start()+1:]\n",
    "    return res\n",
    "\n",
    "def extract_num_from_list(s_list):\n",
    "    s1 = s_list[0]\n",
    "    s2 = s_list[-1]\n",
    "    s1 = conversion_dict.get(s1,s1)\n",
    "    s2 = conversion_dict.get(s2,s2)\n",
    "    return int(s1)*10 + int(s2)\n",
    "\n",
    "print(\"=\"*5 + \" Test \" + \"=\"*20)\n",
    "df = pd.read_csv(io.StringIO(ex_string),header=None)\n",
    "\n",
    "df['nums'] = df[0].apply(list_nums_in_string)\n",
    "\n",
    "df['to_sum'] = df['nums'].apply(extract_num)\n",
    "\n",
    "display(df)\n",
    "\n",
    "print(df['to_sum'].sum())\n",
    "\n",
    "print(\"\\n\\n\\n\" + \"=\"*5 + \" Full \" + \"=\"*20)\n",
    "df = pd.read_csv('input.txt',header=None)\n",
    "\n",
    "df['nums'] = df[0].apply(list_nums_in_string)\n",
    "\n",
    "df['to_sum'] = df['nums'].apply(extract_num)\n",
    "\n",
    "display(df)\n",
    "\n",
    "print(df['to_sum'].sum())\n"
   ]
  },
  {
   "cell_type": "code",
   "execution_count": 75,
   "id": "be261330-8402-4714-8fe1-e89b21f5cad6",
   "metadata": {},
   "outputs": [
    {
     "name": "stdout",
     "output_type": "stream",
     "text": [
      "zoneight234\n",
      "neight234\n",
      "ight234\n",
      "34\n",
      "4\n",
      "\n"
     ]
    },
    {
     "data": {
      "text/plain": [
       "['one', 'eight', '2', '3', '4']"
      ]
     },
     "execution_count": 75,
     "metadata": {},
     "output_type": "execute_result"
    }
   ],
   "source": [
    "\n",
    "list_nums_in_string('zoneight234')"
   ]
  },
  {
   "cell_type": "code",
   "execution_count": 65,
   "id": "56a40a88-d775-44cb-bd8a-3cecfe5cc85c",
   "metadata": {},
   "outputs": [
    {
     "name": "stdout",
     "output_type": "stream",
     "text": [
      "\\d|one|two|three|four|five|six|seven|eight|nine\n"
     ]
    },
    {
     "data": {
      "text/plain": [
       "<re.Match object; span=(1, 4), match='one'>"
      ]
     },
     "execution_count": 65,
     "metadata": {},
     "output_type": "execute_result"
    }
   ],
   "source": [
    "print(pat_string)\n",
    "re.search(pat_string, 'zoneight234')"
   ]
  },
  {
   "cell_type": "code",
   "execution_count": null,
   "id": "94543f81-bb4c-4063-ba07-2b74e4f88c20",
   "metadata": {},
   "outputs": [],
   "source": []
  }
 ],
 "metadata": {
  "kernelspec": {
   "display_name": "Python 3 (ipykernel)",
   "language": "python",
   "name": "python3"
  },
  "language_info": {
   "codemirror_mode": {
    "name": "ipython",
    "version": 3
   },
   "file_extension": ".py",
   "mimetype": "text/x-python",
   "name": "python",
   "nbconvert_exporter": "python",
   "pygments_lexer": "ipython3",
   "version": "3.10.14"
  }
 },
 "nbformat": 4,
 "nbformat_minor": 5
}
