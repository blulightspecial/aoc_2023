{
 "cells": [
  {
   "cell_type": "markdown",
   "id": "ce73ed7f-5b05-4de0-acc8-9bd06f376c3f",
   "metadata": {},
   "source": [
    "# Part 1"
   ]
  },
  {
   "cell_type": "raw",
   "id": "93c57667-68a6-47df-b627-f26800e7d98e",
   "metadata": {},
   "source": [
    "--- Day 3: Gear Ratios ---\n",
    "\n",
    "You and the Elf eventually reach a gondola lift station; he says the gondola lift will take you up to the water source, but this is as far as he can bring you. You go inside.\n",
    "\n",
    "It doesn't take long to find the gondolas, but there seems to be a problem: they're not moving.\n",
    "\n",
    "\"Aaah!\"\n",
    "\n",
    "You turn around to see a slightly-greasy Elf with a wrench and a look of surprise. \"Sorry, I wasn't expecting anyone! The gondola lift isn't working right now; it'll still be a while before I can fix it.\" You offer to help.\n",
    "\n",
    "The engineer explains that an engine part seems to be missing from the engine, but nobody can figure out which one. If you can add up all the part numbers in the engine schematic, it should be easy to work out which part is missing.\n",
    "\n",
    "The engine schematic (your puzzle input) consists of a visual representation of the engine. There are lots of numbers and symbols you don't really understand, but apparently any number adjacent to a symbol, even diagonally, is a \"part number\" and should be included in your sum. (Periods (.) do not count as a symbol.)\n",
    "\n",
    "Here is an example engine schematic:\n",
    "\n",
    "467..114..\n",
    "...*......\n",
    "..35..633.\n",
    "......#...\n",
    "617*......\n",
    ".....+.58.\n",
    "..592.....\n",
    "......755.\n",
    "...$.*....\n",
    ".664.598..\n",
    "In this schematic, two numbers are not part numbers because they are not adjacent to a symbol: 114 (top right) and 58 (middle right). Every other number is adjacent to a symbol and so is a part number; their sum is 4361.\n",
    "\n",
    "Of course, the actual engine schematic is much larger. What is the sum of all of the part numbers in the engine schematic?\n",
    "\n"
   ]
  },
  {
   "cell_type": "code",
   "execution_count": 4,
   "id": "11075dc1-e541-4f00-b28c-dc28aba8cdde",
   "metadata": {},
   "outputs": [],
   "source": [
    "import pandas as pd\n",
    "import io\n",
    "import re"
   ]
  },
  {
   "cell_type": "markdown",
   "id": "b69e7b50-5353-42c2-b9fd-a52c6a7e9ec9",
   "metadata": {},
   "source": [
    "### Proposed stragegy\n",
    "\n",
    "1. Find all symbols\n",
    "   - Use `r\"[^\\w\\s.]\"` to do so\n",
    "2. Create a list for each line where we store the indices of the symbols (if any)\n",
    "   - Lines without symbols just get a None\n",
    "3. Add padding for symbols on their 'home line'\n",
    "   - If we had a symbol at index 5, we would expand its zone of influence to \"4 thru 6\"\n",
    "4. Look on the previous line and the next line. Copy down those zones of influence.\n",
    "   - I don't think we need to explicitly merge them. Ex. If we have a \"4 thru 6\" on the line above and a \"2 thru 4\" on the line below, I think we're fine just keeping our total zone of influence in those separate things. Dont' need to refactor and make it 2 thru 6.\n",
    "5. Find our number indices on a given line. See where they overlap our zones.\n",
    "\n",
    "A kind of elegant way to do this would be to do each line in our zone of influence tracker as a set. When we initilly find symbols, we can add their index to the set. lateral influence is just adding our existing zones' plus 1 and minus one to the set. When we add in the lines above and below, that's just taking the union of our current line's set and the line above's set and the line below's set. When we are looking for overlap that's just a set intersection of the indices. I guess in that case you'd just go number by number and see if there's an intersect. If so, add it to the heap of valid numbers (to sum or whatever.) if not, then just let it drop off. "
   ]
  },
  {
   "cell_type": "markdown",
   "id": "5e64e423-1131-409d-93e3-059f0bd9e4f4",
   "metadata": {},
   "source": [
    "## Example"
   ]
  },
  {
   "cell_type": "code",
   "execution_count": 7,
   "id": "68161979-1964-462c-a085-e96313143f71",
   "metadata": {},
   "outputs": [
    {
     "data": {
      "text/plain": [
       "['467..114..\\n',\n",
       " '...*......\\n',\n",
       " '..35..633.\\n',\n",
       " '......#...\\n',\n",
       " '617*......\\n',\n",
       " '.....+.58.\\n',\n",
       " '..592.....\\n',\n",
       " '......755.\\n',\n",
       " '...$.*....\\n',\n",
       " '.664.598..']"
      ]
     },
     "execution_count": 7,
     "metadata": {},
     "output_type": "execute_result"
    }
   ],
   "source": [
    "example_string = \"\"\"467..114..\n",
    "...*......\n",
    "..35..633.\n",
    "......#...\n",
    "617*......\n",
    ".....+.58.\n",
    "..592.....\n",
    "......755.\n",
    "...$.*....\n",
    ".664.598..\"\"\"\n",
    "\n",
    "\n",
    "with io.StringIO(example_string) as f:\n",
    "    lines = f.readlines()\n",
    "\n",
    "lines"
   ]
  },
  {
   "cell_type": "code",
   "execution_count": 43,
   "id": "1b238498-0bc4-47ad-874a-5f255e722dfb",
   "metadata": {},
   "outputs": [
    {
     "data": {
      "text/plain": [
       "4361"
      ]
     },
     "execution_count": 43,
     "metadata": {},
     "output_type": "execute_result"
    }
   ],
   "source": [
    "import copy\n",
    "\n",
    "def part_1(line_list):\n",
    "    punc_tracker = [] ## empty list each item will be a line containing a set of the indices where we have a match\n",
    "\n",
    "    ## Find punctuation\n",
    "    pat = re.compile(r\"[^\\w\\s.]\")\n",
    "    for el in line_list:\n",
    "        punc_tracker.append({x.start() for x in pat.finditer(el)})\n",
    "\n",
    "    ## Expand punctuation's influence\n",
    "    punc_influence = [set()]*len(punc_tracker)\n",
    "    for ii, line_set in enumerate(punc_tracker):\n",
    "        for idx in line_set:\n",
    "            new_set = {idx, idx+1, idx-1}\n",
    "            punc_influence[ii] = punc_influence[ii]| new_set\n",
    "            if ii != 0:\n",
    "                punc_influence[ii-1] = punc_influence[ii-1] | new_set\n",
    "            if ii != len(punc_tracker):\n",
    "                punc_influence[ii+1] = punc_influence[ii+1] | new_set\n",
    "\n",
    "    ## Find numbers and compare them with punctuation influence\n",
    "    overlapping_nums = []\n",
    "    num_pat = re.compile(r\"\\d+\")\n",
    "    for ii, line in enumerate(line_list):\n",
    "        matches = num_pat.finditer(line)\n",
    "        for match in matches:\n",
    "            num_indices = set(range(match.start(), match.end()))\n",
    "            if num_indices & punc_influence[ii]:\n",
    "                overlapping_nums.append(int(match[0]))\n",
    "\n",
    "    return sum(overlapping_nums)\n",
    "\n",
    "part_1(lines)\n",
    "    "
   ]
  },
  {
   "cell_type": "code",
   "execution_count": 21,
   "id": "78f92942-9dec-4877-897e-b7c55346d64f",
   "metadata": {},
   "outputs": [],
   "source": [
    "my_set = {1,2,3,50,2}"
   ]
  },
  {
   "cell_type": "code",
   "execution_count": 22,
   "id": "e51fa089-d959-4c3a-af13-75378ec35be4",
   "metadata": {},
   "outputs": [],
   "source": [
    "my_set.add(2)"
   ]
  },
  {
   "cell_type": "code",
   "execution_count": 23,
   "id": "4c0595a2-9a94-4eca-9df0-7f668fb0cd68",
   "metadata": {},
   "outputs": [],
   "source": [
    "my_set.add(5)"
   ]
  },
  {
   "cell_type": "code",
   "execution_count": 24,
   "id": "8233ff44-3138-401d-9b1a-27f68aa5d8ab",
   "metadata": {},
   "outputs": [
    {
     "data": {
      "text/plain": [
       "{1, 2, 3, 5, 50}"
      ]
     },
     "execution_count": 24,
     "metadata": {},
     "output_type": "execute_result"
    }
   ],
   "source": [
    "my_set"
   ]
  },
  {
   "cell_type": "code",
   "execution_count": 26,
   "id": "e2e58496-6292-451b-bbde-15a1c625c696",
   "metadata": {},
   "outputs": [],
   "source": [
    "my_other_set ={4,3}"
   ]
  },
  {
   "cell_type": "code",
   "execution_count": 28,
   "id": "dea0df98-f47f-4be0-aa6f-19c651edaa45",
   "metadata": {},
   "outputs": [
    {
     "name": "stdout",
     "output_type": "stream",
     "text": [
      "{1, 2, 3, 5, 50}\n",
      "{3, 4}\n",
      "{1, 2, 3, 50, 5, 4}\n",
      "{3}\n"
     ]
    }
   ],
   "source": [
    "print(my_set)\n",
    "print(my_other_set)\n",
    "print(my_set | my_other_set)\n",
    "print(my_set & my_other_set)"
   ]
  },
  {
   "cell_type": "code",
   "execution_count": 37,
   "id": "68bed64e-2cc4-4545-bee2-d877e9188233",
   "metadata": {},
   "outputs": [
    {
     "data": {
      "text/plain": [
       "set"
      ]
     },
     "execution_count": 37,
     "metadata": {},
     "output_type": "execute_result"
    }
   ],
   "source": [
    "type(([set()]*5)[0])"
   ]
  },
  {
   "cell_type": "code",
   "execution_count": 39,
   "id": "8acbc2e3-a30f-44c9-b22a-63c2e85e4a64",
   "metadata": {},
   "outputs": [
    {
     "data": {
      "text/plain": [
       "'fjklf'"
      ]
     },
     "execution_count": 39,
     "metadata": {},
     "output_type": "execute_result"
    }
   ],
   "source": [
    "\"  fjklf \".strip()"
   ]
  },
  {
   "cell_type": "code",
   "execution_count": 40,
   "id": "61a2476c-ff57-4261-b63e-bb915e309783",
   "metadata": {},
   "outputs": [
    {
     "data": {
      "text/plain": [
       "{2, 3, 4}"
      ]
     },
     "execution_count": 40,
     "metadata": {},
     "output_type": "execute_result"
    }
   ],
   "source": [
    "set(range(2,5))"
   ]
  },
  {
   "cell_type": "code",
   "execution_count": 42,
   "id": "3443c009-9def-4982-ad60-b5c7bc3e25af",
   "metadata": {},
   "outputs": [
    {
     "data": {
      "text/plain": [
       "8"
      ]
     },
     "execution_count": 42,
     "metadata": {},
     "output_type": "execute_result"
    }
   ],
   "source": [
    "sum([1,2,5])"
   ]
  },
  {
   "cell_type": "code",
   "execution_count": null,
   "id": "3ac30afa-de64-474d-83aa-30a24660785e",
   "metadata": {},
   "outputs": [],
   "source": []
  },
  {
   "cell_type": "markdown",
   "id": "f3b05777-e6d5-4fe0-aabe-247801eea871",
   "metadata": {},
   "source": [
    "### Actual\n",
    "\n",
    "\n"
   ]
  },
  {
   "cell_type": "code",
   "execution_count": 44,
   "id": "8dc1bbb8-e5ee-4fad-842b-171ee0b54721",
   "metadata": {},
   "outputs": [
    {
     "data": {
      "text/plain": [
       "521601"
      ]
     },
     "execution_count": 44,
     "metadata": {},
     "output_type": "execute_result"
    }
   ],
   "source": [
    "with open('input.txt', 'r') as f:\n",
    "    real_lines = f.readlines()\n",
    "\n",
    "part_1(real_lines)"
   ]
  },
  {
   "cell_type": "code",
   "execution_count": 55,
   "id": "1c3811d3-1dd2-4706-bcac-696a1334480f",
   "metadata": {},
   "outputs": [
    {
     "data": {
      "text/plain": [
       "'Kevion F8Iartin'"
      ]
     },
     "execution_count": 55,
     "metadata": {},
     "output_type": "execute_result"
    }
   ],
   "source": [
    "import re\n",
    "\" \".join(re.split(r'\\W+',\"kevion     f8iaRtin\".title(), ))"
   ]
  },
  {
   "cell_type": "code",
   "execution_count": 56,
   "id": "cbc919ae-b09f-4823-a696-ef01cf60dcc2",
   "metadata": {},
   "outputs": [
    {
     "data": {
      "text/plain": [
       "'kevin'"
      ]
     },
     "execution_count": 56,
     "metadata": {},
     "output_type": "execute_result"
    }
   ],
   "source": [
    "\" \".join(['kevin'])"
   ]
  },
  {
   "cell_type": "code",
   "execution_count": 57,
   "id": "3b26f69a-b038-4431-b8d6-4081ba89b91b",
   "metadata": {},
   "outputs": [
    {
     "data": {
      "text/plain": [
       "['kevin', 'hreion']"
      ]
     },
     "execution_count": 57,
     "metadata": {},
     "output_type": "execute_result"
    }
   ],
   "source": [
    "import random\n",
    "\n",
    "random.sample(['kevin', 'jone','hreion', 'bibity'],2)"
   ]
  },
  {
   "cell_type": "raw",
   "id": "e1f045ca-5015-4160-82f5-8add152a5ed4",
   "metadata": {},
   "source": [
    "--- Part Two ---\n",
    "\n",
    "The engineer finds the missing part and installs it in the engine! As the engine springs to life, you jump in the closest gondola, finally ready to ascend to the water source.\n",
    "\n",
    "You don't seem to be going very fast, though. Maybe something is still wrong? Fortunately, the gondola has a phone labeled \"help\", so you pick it up and the engineer answers.\n",
    "\n",
    "Before you can explain the situation, she suggests that you look out the window. There stands the engineer, holding a phone in one hand and waving with the other. You're going so slowly that you haven't even left the station. You exit the gondola.\n",
    "\n",
    "The missing part wasn't the only issue - one of the gears in the engine is wrong. A gear is any * symbol that is adjacent to exactly two part numbers. Its gear ratio is the result of multiplying those two numbers together.\n",
    "\n",
    "This time, you need to find the gear ratio of every gear and add them all up so that the engineer can figure out which gear needs to be replaced.\n",
    "\n",
    "Consider the same engine schematic again:\n",
    "\n",
    "467..114..\n",
    "...*......\n",
    "..35..633.\n",
    "......#...\n",
    "617*......\n",
    ".....+.58.\n",
    "..592.....\n",
    "......755.\n",
    "...$.*....\n",
    ".664.598..\n",
    "In this schematic, there are two gears. The first is in the top left; it has part numbers 467 and 35, so its gear ratio is 16345. The second gear is in the lower right; its gear ratio is 451490. (The * adjacent to 617 is not a gear because it is only adjacent to one part number.) Adding up all of the gear ratios produces 467835.\n",
    "\n",
    "What is the sum of all of the gear ratios in your engine schematic?"
   ]
  },
  {
   "cell_type": "code",
   "execution_count": null,
   "id": "77344d15-75a9-4aa8-bf34-0c67c562d45c",
   "metadata": {},
   "outputs": [],
   "source": []
  }
 ],
 "metadata": {
  "kernelspec": {
   "display_name": "Python 3 (ipykernel)",
   "language": "python",
   "name": "python3"
  },
  "language_info": {
   "codemirror_mode": {
    "name": "ipython",
    "version": 3
   },
   "file_extension": ".py",
   "mimetype": "text/x-python",
   "name": "python",
   "nbconvert_exporter": "python",
   "pygments_lexer": "ipython3",
   "version": "3.10.14"
  }
 },
 "nbformat": 4,
 "nbformat_minor": 5
}
